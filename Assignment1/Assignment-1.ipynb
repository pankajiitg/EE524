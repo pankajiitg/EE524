{
 "cells": [
  {
   "cell_type": "code",
   "execution_count": 1,
   "metadata": {},
   "outputs": [
    {
     "name": "stdout",
     "output_type": "stream",
     "text": [
      "Hello World\n"
     ]
    }
   ],
   "source": [
    "# Question Number:- 1\n",
    "print(\"Hello World\")"
   ]
  },
  {
   "cell_type": "code",
   "execution_count": 2,
   "metadata": {},
   "outputs": [
    {
     "name": "stdout",
     "output_type": "stream",
     "text": [
      "enter number a 4\n",
      "enter number b 5\n",
      "9 -1 20 0.8 4\n"
     ]
    }
   ],
   "source": [
    "# Question Number:-2\n",
    "a= int(input('enter number a '))\n",
    "b= int(input('enter number b '))\n",
    "c = a + b\n",
    "d = a - b\n",
    "e = a * b\n",
    "f = a / b\n",
    "g = a % b\n",
    "print(c,d,e,f,g)"
   ]
  },
  {
   "cell_type": "code",
   "execution_count": 5,
   "metadata": {
    "scrolled": true
   },
   "outputs": [
    {
     "name": "stdout",
     "output_type": "stream",
     "text": [
      "enter fist number a 2\n",
      "enter second number b 9\n",
      "prime numbers between  2 and 9 are\n",
      "2\n",
      "3\n",
      "5\n",
      "7\n"
     ]
    }
   ],
   "source": [
    "# Question Number:-3\n",
    "a = int(input( \"enter fist number a \"))\n",
    "b = int(input(\"enter second number b \"))\n",
    "print('prime numbers between ',a ,'and', b , 'are')\n",
    "for number in range(a,b+1):\n",
    "    if number > 1:                                          # prime numbers are greater than 1\n",
    "        for i in range(2,number):\n",
    "            if (number % i) == 0:\n",
    "                break\n",
    "        else:\n",
    "             print(number)\n"
   ]
  },
  {
   "cell_type": "code",
   "execution_count": 7,
   "metadata": {},
   "outputs": [
    {
     "name": "stdout",
     "output_type": "stream",
     "text": [
      "enter 1st number a 1\n",
      "enter 2nd number b 4\n",
      "LCM of 1 and 4 are\n",
      "4\n"
     ]
    }
   ],
   "source": [
    "# Question Number:-4\n",
    "a = int(input('enter 1st number a '))\n",
    "b = int(input('enter 2nd number b '))\n",
    "print('LCM of',a, 'and' ,b, 'are')\n",
    "if a > b :\n",
    "    max= a\n",
    "else:\n",
    "    max= b\n",
    "while(True):\n",
    "    if (max % a == 0 and max % b == 0):\n",
    "        print(max)\n",
    "        break;\n",
    "    max= max+ 1"
   ]
  },
  {
   "cell_type": "code",
   "execution_count": 8,
   "metadata": {},
   "outputs": [
    {
     "name": "stdout",
     "output_type": "stream",
     "text": [
      "Sorted list in descending order is : \n",
      "[56, 45, 23, 17, 16, 15, 13, 12, 9, 8, 7, 6, 4, 2]\n"
     ]
    }
   ],
   "source": [
    "# Question Number:-5\n",
    "list = [2, 4, 6, 8, 56, 12, 45, 23, 13, 15, 1, 7, 9, 17, 16]\n",
    "n = len(list)\n",
    "for i in range(n-1):\n",
    "    for j in range(0, n - i - 1):\n",
    "        if list[j] < list[j + 1]:\n",
    "            list[j], list[j + 1] = list[j + 1], list[j]\n",
    "\n",
    "print(\"Sorted list in descending order is : \")\n",
    "print(list[0:i+1])"
   ]
  },
  {
   "cell_type": "code",
   "execution_count": 12,
   "metadata": {},
   "outputs": [
    {
     "name": "stdout",
     "output_type": "stream",
     "text": [
      "Sorted list in ascending order is : \n",
      "[ 1  2  4  6  7  8  9 12 13 15 16 17 23 45 56]\n"
     ]
    }
   ],
   "source": [
    "# Question Number:-6\n",
    "import numpy as np\n",
    "a = np.array([2, 4, 6, 8, 56, 12, 45, 23, 13, 15, 1, 7, 9, 17, 16])\n",
    "n = len(a)\n",
    "for i in range(n):\n",
    "    for j in range(0, n - i - 1):\n",
    "        if a[j] > a[j + 1]:\n",
    "            a[j], a[j + 1] = a[j + 1], list[j]\n",
    "\n",
    "print(\"Sorted list in ascending order is : \")\n",
    "print(list[0:i+1])"
   ]
  },
  {
   "cell_type": "code",
   "execution_count": null,
   "metadata": {},
   "outputs": [],
   "source": []
  }
 ],
 "metadata": {
  "kernelspec": {
   "display_name": "Python 3",
   "language": "python",
   "name": "python3"
  },
  "language_info": {
   "codemirror_mode": {
    "name": "ipython",
    "version": 3
   },
   "file_extension": ".py",
   "mimetype": "text/x-python",
   "name": "python",
   "nbconvert_exporter": "python",
   "pygments_lexer": "ipython3",
   "version": "3.8.3"
  }
 },
 "nbformat": 4,
 "nbformat_minor": 4
}
